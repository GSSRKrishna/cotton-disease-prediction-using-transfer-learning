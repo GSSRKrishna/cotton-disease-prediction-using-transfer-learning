{
  "nbformat": 4,
  "nbformat_minor": 0,
  "metadata": {
    "colab": {
      "name": "cotton disease prediction .ipynb",
      "provenance": [],
      "collapsed_sections": []
    },
    "kernelspec": {
      "name": "python3",
      "display_name": "Python 3"
    },
    "language_info": {
      "name": "python"
    },
    "accelerator": "GPU"
  },
  "cells": [
    {
      "cell_type": "markdown",
      "metadata": {
        "id": "FZ585eM8-l9V"
      },
      "source": [
        "It is a multiclassification problem . Here we have four different claases of images. "
      ]
    },
    {
      "cell_type": "markdown",
      "source": [
        "###impoting libraries"
      ],
      "metadata": {
        "id": "6NJo4B3BIY4a"
      }
    },
    {
      "cell_type": "code",
      "source": [
        "from google.colab import drive\n",
        "drive.mount('/content/drive')"
      ],
      "metadata": {
        "id": "EtK6Qcb7Hw7t"
      },
      "execution_count": null,
      "outputs": []
    },
    {
      "cell_type": "code",
      "metadata": {
        "id": "KxkGL4by-sV8"
      },
      "source": [
        "from tensorflow.keras.layers import Input, Lambda, Dense, Flatten\n",
        "from tensorflow.keras.models import Model\n",
        "from tensorflow.keras.applications.vgg19 import VGG19\n",
        "from tensorflow.keras.preprocessing import image\n",
        "from tensorflow.keras.preprocessing.image import ImageDataGenerator\n",
        "from tensorflow.keras.models import Sequential"
      ],
      "execution_count": 1,
      "outputs": []
    },
    {
      "cell_type": "code",
      "metadata": {
        "id": "pILnNksyA-S2"
      },
      "source": [
        "import numpy as np\n",
        "import pandas as pd\n",
        "import matplotlib.pyplot as plt"
      ],
      "execution_count": 2,
      "outputs": []
    },
    {
      "cell_type": "markdown",
      "metadata": {
        "id": "9c6jmcNUBgOB"
      },
      "source": [
        "###importing datasets"
      ]
    },
    {
      "cell_type": "code",
      "metadata": {
        "id": "TieBcpreCFq1"
      },
      "source": [
        "train_path = '/content/drive/MyDrive/Cotton Disease/train'\n",
        "validation_path='/content/drive/MyDrive/Cotton Disease/val'\n",
        "test_path = '/content/drive/MyDrive/Cotton Disease/test'"
      ],
      "execution_count": 3,
      "outputs": []
    },
    {
      "cell_type": "code",
      "metadata": {
        "id": "6ipSkotxCmN4"
      },
      "source": [
        "IMAGE_SIZE = [224, 224]"
      ],
      "execution_count": 4,
      "outputs": []
    },
    {
      "cell_type": "markdown",
      "metadata": {
        "id": "IDjeUXShCqpl"
      },
      "source": [
        "###processing vgg and adding some more layers"
      ]
    },
    {
      "cell_type": "code",
      "metadata": {
        "colab": {
          "base_uri": "https://localhost:8080/"
        },
        "id": "ll8LHlP4FHhj",
        "outputId": "06eaea25-7021-4c7b-daad-736de75b1eed"
      },
      "source": [
        "vgg = VGG19(input_shape=IMAGE_SIZE + [3], weights='imagenet', include_top=False)"
      ],
      "execution_count": 5,
      "outputs": [
        {
          "output_type": "stream",
          "name": "stdout",
          "text": [
            "Downloading data from https://storage.googleapis.com/tensorflow/keras-applications/vgg19/vgg19_weights_tf_dim_ordering_tf_kernels_notop.h5\n",
            "80142336/80134624 [==============================] - 1s 0us/step\n",
            "80150528/80134624 [==============================] - 1s 0us/step\n"
          ]
        }
      ]
    },
    {
      "cell_type": "code",
      "metadata": {
        "id": "Qbw0LVUPFZW3"
      },
      "source": [
        "#not training the existing weights\n",
        "for layer in vgg.layers:\n",
        "  layer.trainable = False"
      ],
      "execution_count": 6,
      "outputs": []
    },
    {
      "cell_type": "markdown",
      "metadata": {
        "id": "17xjP5oiF816"
      },
      "source": [
        "**adding flatten and output layer:**"
      ]
    },
    {
      "cell_type": "code",
      "metadata": {
        "id": "3t_hLANzGIS2"
      },
      "source": [
        "layer1 = Flatten()(vgg.output)\n",
        "output_layer = Dense(4, activation='softmax')(layer1)"
      ],
      "execution_count": 7,
      "outputs": []
    },
    {
      "cell_type": "markdown",
      "metadata": {
        "id": "AtKgeHw7GieC"
      },
      "source": [
        "###model:"
      ]
    },
    {
      "cell_type": "code",
      "metadata": {
        "id": "iVnvbhR5GuiX"
      },
      "source": [
        "model = Model(inputs=vgg.input, outputs=output_layer)"
      ],
      "execution_count": 8,
      "outputs": []
    },
    {
      "cell_type": "code",
      "metadata": {
        "colab": {
          "base_uri": "https://localhost:8080/"
        },
        "id": "jo1MgCIkHtJ1",
        "outputId": "c5162739-e7ad-427a-c611-8612bc2c58b7"
      },
      "source": [
        "model.summary()"
      ],
      "execution_count": 9,
      "outputs": [
        {
          "output_type": "stream",
          "name": "stdout",
          "text": [
            "Model: \"model\"\n",
            "_________________________________________________________________\n",
            " Layer (type)                Output Shape              Param #   \n",
            "=================================================================\n",
            " input_1 (InputLayer)        [(None, 224, 224, 3)]     0         \n",
            "                                                                 \n",
            " block1_conv1 (Conv2D)       (None, 224, 224, 64)      1792      \n",
            "                                                                 \n",
            " block1_conv2 (Conv2D)       (None, 224, 224, 64)      36928     \n",
            "                                                                 \n",
            " block1_pool (MaxPooling2D)  (None, 112, 112, 64)      0         \n",
            "                                                                 \n",
            " block2_conv1 (Conv2D)       (None, 112, 112, 128)     73856     \n",
            "                                                                 \n",
            " block2_conv2 (Conv2D)       (None, 112, 112, 128)     147584    \n",
            "                                                                 \n",
            " block2_pool (MaxPooling2D)  (None, 56, 56, 128)       0         \n",
            "                                                                 \n",
            " block3_conv1 (Conv2D)       (None, 56, 56, 256)       295168    \n",
            "                                                                 \n",
            " block3_conv2 (Conv2D)       (None, 56, 56, 256)       590080    \n",
            "                                                                 \n",
            " block3_conv3 (Conv2D)       (None, 56, 56, 256)       590080    \n",
            "                                                                 \n",
            " block3_conv4 (Conv2D)       (None, 56, 56, 256)       590080    \n",
            "                                                                 \n",
            " block3_pool (MaxPooling2D)  (None, 28, 28, 256)       0         \n",
            "                                                                 \n",
            " block4_conv1 (Conv2D)       (None, 28, 28, 512)       1180160   \n",
            "                                                                 \n",
            " block4_conv2 (Conv2D)       (None, 28, 28, 512)       2359808   \n",
            "                                                                 \n",
            " block4_conv3 (Conv2D)       (None, 28, 28, 512)       2359808   \n",
            "                                                                 \n",
            " block4_conv4 (Conv2D)       (None, 28, 28, 512)       2359808   \n",
            "                                                                 \n",
            " block4_pool (MaxPooling2D)  (None, 14, 14, 512)       0         \n",
            "                                                                 \n",
            " block5_conv1 (Conv2D)       (None, 14, 14, 512)       2359808   \n",
            "                                                                 \n",
            " block5_conv2 (Conv2D)       (None, 14, 14, 512)       2359808   \n",
            "                                                                 \n",
            " block5_conv3 (Conv2D)       (None, 14, 14, 512)       2359808   \n",
            "                                                                 \n",
            " block5_conv4 (Conv2D)       (None, 14, 14, 512)       2359808   \n",
            "                                                                 \n",
            " block5_pool (MaxPooling2D)  (None, 7, 7, 512)         0         \n",
            "                                                                 \n",
            " flatten (Flatten)           (None, 25088)             0         \n",
            "                                                                 \n",
            " dense (Dense)               (None, 4)                 100356    \n",
            "                                                                 \n",
            "=================================================================\n",
            "Total params: 20,124,740\n",
            "Trainable params: 100,356\n",
            "Non-trainable params: 20,024,384\n",
            "_________________________________________________________________\n"
          ]
        }
      ]
    },
    {
      "cell_type": "markdown",
      "metadata": {
        "id": "P9PFr3q3H3Dc"
      },
      "source": [
        "**compiling model:**"
      ]
    },
    {
      "cell_type": "code",
      "metadata": {
        "id": "j_xu7SRMH2Lt"
      },
      "source": [
        "model.compile(loss='categorical_crossentropy',optimizer='adam',metrics=['accuracy'])"
      ],
      "execution_count": 10,
      "outputs": []
    },
    {
      "cell_type": "markdown",
      "metadata": {
        "id": "dBI6qJdpJU4p"
      },
      "source": [
        "###preprocessing data"
      ]
    },
    {
      "cell_type": "code",
      "metadata": {
        "id": "mcqFhRqUJh0C"
      },
      "source": [
        "train_datagen = ImageDataGenerator(rescale = 1./255,\n",
        "                                   shear_range = 0.2,\n",
        "                                   zoom_range = 0.2,\n",
        "                                   horizontal_flip = True)\n",
        "\n",
        "validation_datagen= ImageDataGenerator(rescale = 1./255)\n",
        "test_datagen = ImageDataGenerator(rescale = 1./255)"
      ],
      "execution_count": 11,
      "outputs": []
    },
    {
      "cell_type": "code",
      "metadata": {
        "colab": {
          "base_uri": "https://localhost:8080/"
        },
        "id": "b7VVOokOJi4G",
        "outputId": "242bbe91-15f9-4a0b-eb97-4399c6514639"
      },
      "source": [
        "training_set = train_datagen.flow_from_directory(train_path,\n",
        "                                                 target_size = (224, 224),\n",
        "                                                 batch_size = 32,\n",
        "                                                 class_mode = 'categorical')"
      ],
      "execution_count": 12,
      "outputs": [
        {
          "output_type": "stream",
          "name": "stdout",
          "text": [
            "Found 1951 images belonging to 4 classes.\n"
          ]
        }
      ]
    },
    {
      "cell_type": "code",
      "source": [
        "validation_set = validation_datagen.flow_from_directory(validation_path,\n",
        "                                            target_size = (224, 224),\n",
        "                                            batch_size = 32,\n",
        "                                            class_mode = 'categorical')"
      ],
      "metadata": {
        "id": "DSo8yM7QhzXN",
        "colab": {
          "base_uri": "https://localhost:8080/"
        },
        "outputId": "21ede3f2-ec37-4f42-cc03-49d7924232f1"
      },
      "execution_count": 13,
      "outputs": [
        {
          "output_type": "stream",
          "name": "stdout",
          "text": [
            "Found 253 images belonging to 4 classes.\n"
          ]
        }
      ]
    },
    {
      "cell_type": "code",
      "metadata": {
        "colab": {
          "base_uri": "https://localhost:8080/"
        },
        "id": "SWhl5VPpJrME",
        "outputId": "0ddc257f-863e-4ba8-80db-a27c71c04c5b"
      },
      "source": [
        "test_set = test_datagen.flow_from_directory(test_path,\n",
        "                                            target_size = (224, 224),\n",
        "                                            batch_size = 32,\n",
        "                                            class_mode = 'categorical')"
      ],
      "execution_count": 14,
      "outputs": [
        {
          "output_type": "stream",
          "name": "stdout",
          "text": [
            "Found 106 images belonging to 4 classes.\n"
          ]
        }
      ]
    },
    {
      "cell_type": "markdown",
      "metadata": {
        "id": "YMte5XIMJ51f"
      },
      "source": [
        "###fitting model"
      ]
    },
    {
      "cell_type": "code",
      "metadata": {
        "colab": {
          "base_uri": "https://localhost:8080/"
        },
        "id": "p3zBAb0HKT1v",
        "outputId": "4602af3f-d68c-491c-e020-535232ac4d5f"
      },
      "source": [
        "mf = model.fit(training_set,validation_data=validation_set, epochs=50, steps_per_epoch=len(training_set),validation_steps=len(validation_set))"
      ],
      "execution_count": 15,
      "outputs": [
        {
          "output_type": "stream",
          "name": "stdout",
          "text": [
            "Epoch 1/50\n",
            "61/61 [==============================] - 410s 7s/step - loss: 0.7692 - accuracy: 0.7273 - val_loss: 0.2937 - val_accuracy: 0.8933\n",
            "Epoch 2/50\n",
            "61/61 [==============================] - 50s 808ms/step - loss: 0.2913 - accuracy: 0.8877 - val_loss: 0.2797 - val_accuracy: 0.8814\n",
            "Epoch 3/50\n",
            "61/61 [==============================] - 49s 807ms/step - loss: 0.2351 - accuracy: 0.9113 - val_loss: 0.2419 - val_accuracy: 0.8775\n",
            "Epoch 4/50\n",
            "61/61 [==============================] - 50s 823ms/step - loss: 0.1810 - accuracy: 0.9375 - val_loss: 0.2320 - val_accuracy: 0.8972\n",
            "Epoch 5/50\n",
            "61/61 [==============================] - 50s 819ms/step - loss: 0.1323 - accuracy: 0.9554 - val_loss: 0.2093 - val_accuracy: 0.9209\n",
            "Epoch 6/50\n",
            "61/61 [==============================] - 50s 811ms/step - loss: 0.1710 - accuracy: 0.9416 - val_loss: 0.1831 - val_accuracy: 0.9170\n",
            "Epoch 7/50\n",
            "61/61 [==============================] - 50s 821ms/step - loss: 0.1274 - accuracy: 0.9605 - val_loss: 0.1765 - val_accuracy: 0.9209\n",
            "Epoch 8/50\n",
            "61/61 [==============================] - 50s 817ms/step - loss: 0.1725 - accuracy: 0.9349 - val_loss: 0.2768 - val_accuracy: 0.8893\n",
            "Epoch 9/50\n",
            "61/61 [==============================] - 50s 817ms/step - loss: 0.1350 - accuracy: 0.9462 - val_loss: 0.1425 - val_accuracy: 0.9447\n",
            "Epoch 10/50\n",
            "61/61 [==============================] - 50s 820ms/step - loss: 0.0809 - accuracy: 0.9774 - val_loss: 0.1655 - val_accuracy: 0.9249\n",
            "Epoch 11/50\n",
            "61/61 [==============================] - 50s 813ms/step - loss: 0.1279 - accuracy: 0.9493 - val_loss: 0.1668 - val_accuracy: 0.9328\n",
            "Epoch 12/50\n",
            "61/61 [==============================] - 50s 812ms/step - loss: 0.0674 - accuracy: 0.9815 - val_loss: 0.2521 - val_accuracy: 0.8814\n",
            "Epoch 13/50\n",
            "61/61 [==============================] - 50s 821ms/step - loss: 0.0960 - accuracy: 0.9626 - val_loss: 0.1450 - val_accuracy: 0.9368\n",
            "Epoch 14/50\n",
            "61/61 [==============================] - 52s 845ms/step - loss: 0.0592 - accuracy: 0.9795 - val_loss: 0.1505 - val_accuracy: 0.9486\n",
            "Epoch 15/50\n",
            "61/61 [==============================] - 52s 849ms/step - loss: 0.0766 - accuracy: 0.9728 - val_loss: 0.2300 - val_accuracy: 0.9012\n",
            "Epoch 16/50\n",
            "61/61 [==============================] - 51s 828ms/step - loss: 0.0742 - accuracy: 0.9739 - val_loss: 0.1614 - val_accuracy: 0.9447\n",
            "Epoch 17/50\n",
            "61/61 [==============================] - 51s 825ms/step - loss: 0.0499 - accuracy: 0.9867 - val_loss: 0.2051 - val_accuracy: 0.9051\n",
            "Epoch 18/50\n",
            "61/61 [==============================] - 51s 829ms/step - loss: 0.0439 - accuracy: 0.9862 - val_loss: 0.1651 - val_accuracy: 0.9209\n",
            "Epoch 19/50\n",
            "61/61 [==============================] - 51s 827ms/step - loss: 0.0420 - accuracy: 0.9887 - val_loss: 0.1430 - val_accuracy: 0.9407\n",
            "Epoch 20/50\n",
            "61/61 [==============================] - 50s 823ms/step - loss: 0.0492 - accuracy: 0.9882 - val_loss: 0.1518 - val_accuracy: 0.9407\n",
            "Epoch 21/50\n",
            "61/61 [==============================] - 51s 825ms/step - loss: 0.0544 - accuracy: 0.9836 - val_loss: 0.1633 - val_accuracy: 0.9170\n",
            "Epoch 22/50\n",
            "61/61 [==============================] - 51s 834ms/step - loss: 0.0515 - accuracy: 0.9810 - val_loss: 0.2544 - val_accuracy: 0.9012\n",
            "Epoch 23/50\n",
            "61/61 [==============================] - 51s 825ms/step - loss: 0.0506 - accuracy: 0.9810 - val_loss: 0.1340 - val_accuracy: 0.9447\n",
            "Epoch 24/50\n",
            "61/61 [==============================] - 51s 826ms/step - loss: 0.0437 - accuracy: 0.9846 - val_loss: 0.2994 - val_accuracy: 0.8933\n",
            "Epoch 25/50\n",
            "61/61 [==============================] - 51s 827ms/step - loss: 0.0425 - accuracy: 0.9882 - val_loss: 0.2042 - val_accuracy: 0.9091\n",
            "Epoch 26/50\n",
            "61/61 [==============================] - 50s 822ms/step - loss: 0.0728 - accuracy: 0.9769 - val_loss: 0.3095 - val_accuracy: 0.8735\n",
            "Epoch 27/50\n",
            "61/61 [==============================] - 50s 820ms/step - loss: 0.0342 - accuracy: 0.9903 - val_loss: 0.1238 - val_accuracy: 0.9368\n",
            "Epoch 28/50\n",
            "61/61 [==============================] - 51s 829ms/step - loss: 0.0242 - accuracy: 0.9959 - val_loss: 0.2685 - val_accuracy: 0.8893\n",
            "Epoch 29/50\n",
            "61/61 [==============================] - 51s 834ms/step - loss: 0.0261 - accuracy: 0.9949 - val_loss: 0.2447 - val_accuracy: 0.9091\n",
            "Epoch 30/50\n",
            "61/61 [==============================] - 51s 831ms/step - loss: 0.0296 - accuracy: 0.9923 - val_loss: 0.1246 - val_accuracy: 0.9447\n",
            "Epoch 31/50\n",
            "61/61 [==============================] - 52s 843ms/step - loss: 0.0304 - accuracy: 0.9897 - val_loss: 0.1894 - val_accuracy: 0.9209\n",
            "Epoch 32/50\n",
            "61/61 [==============================] - 51s 836ms/step - loss: 0.0354 - accuracy: 0.9887 - val_loss: 0.1251 - val_accuracy: 0.9407\n",
            "Epoch 33/50\n",
            "61/61 [==============================] - 52s 851ms/step - loss: 0.0311 - accuracy: 0.9908 - val_loss: 0.1068 - val_accuracy: 0.9565\n",
            "Epoch 34/50\n",
            "61/61 [==============================] - 51s 836ms/step - loss: 0.0199 - accuracy: 0.9969 - val_loss: 0.1513 - val_accuracy: 0.9407\n",
            "Epoch 35/50\n",
            "61/61 [==============================] - 51s 836ms/step - loss: 0.0222 - accuracy: 0.9949 - val_loss: 0.2681 - val_accuracy: 0.8775\n",
            "Epoch 36/50\n",
            "61/61 [==============================] - 51s 838ms/step - loss: 0.0226 - accuracy: 0.9949 - val_loss: 0.2914 - val_accuracy: 0.8933\n",
            "Epoch 37/50\n",
            "61/61 [==============================] - 51s 832ms/step - loss: 0.0298 - accuracy: 0.9908 - val_loss: 0.1544 - val_accuracy: 0.9407\n",
            "Epoch 38/50\n",
            "61/61 [==============================] - 50s 822ms/step - loss: 0.0299 - accuracy: 0.9908 - val_loss: 0.3501 - val_accuracy: 0.8735\n",
            "Epoch 39/50\n",
            "61/61 [==============================] - 50s 819ms/step - loss: 0.0295 - accuracy: 0.9887 - val_loss: 0.1478 - val_accuracy: 0.9368\n",
            "Epoch 40/50\n",
            "61/61 [==============================] - 50s 819ms/step - loss: 0.0370 - accuracy: 0.9856 - val_loss: 0.1759 - val_accuracy: 0.9407\n",
            "Epoch 41/50\n",
            "61/61 [==============================] - 50s 817ms/step - loss: 0.0420 - accuracy: 0.9831 - val_loss: 0.2940 - val_accuracy: 0.9091\n",
            "Epoch 42/50\n",
            "61/61 [==============================] - 50s 820ms/step - loss: 0.0376 - accuracy: 0.9882 - val_loss: 0.1207 - val_accuracy: 0.9605\n",
            "Epoch 43/50\n",
            "61/61 [==============================] - 52s 847ms/step - loss: 0.0174 - accuracy: 0.9944 - val_loss: 0.1414 - val_accuracy: 0.9407\n",
            "Epoch 44/50\n",
            "61/61 [==============================] - 51s 827ms/step - loss: 0.0147 - accuracy: 0.9969 - val_loss: 0.3176 - val_accuracy: 0.8893\n",
            "Epoch 45/50\n",
            "61/61 [==============================] - 51s 827ms/step - loss: 0.0243 - accuracy: 0.9928 - val_loss: 0.1088 - val_accuracy: 0.9565\n",
            "Epoch 46/50\n",
            "61/61 [==============================] - 51s 829ms/step - loss: 0.0362 - accuracy: 0.9867 - val_loss: 0.2354 - val_accuracy: 0.9091\n",
            "Epoch 47/50\n",
            "61/61 [==============================] - 50s 810ms/step - loss: 0.0158 - accuracy: 0.9954 - val_loss: 0.3499 - val_accuracy: 0.8854\n",
            "Epoch 48/50\n",
            "61/61 [==============================] - 49s 806ms/step - loss: 0.0186 - accuracy: 0.9954 - val_loss: 0.1744 - val_accuracy: 0.9170\n",
            "Epoch 49/50\n",
            "61/61 [==============================] - 49s 804ms/step - loss: 0.0346 - accuracy: 0.9887 - val_loss: 0.3519 - val_accuracy: 0.8933\n",
            "Epoch 50/50\n",
            "61/61 [==============================] - 49s 801ms/step - loss: 0.0299 - accuracy: 0.9903 - val_loss: 0.1679 - val_accuracy: 0.9447\n"
          ]
        }
      ]
    },
    {
      "cell_type": "markdown",
      "metadata": {
        "id": "TQ_eB9XebQmQ"
      },
      "source": [
        "###evaluating the model"
      ]
    },
    {
      "cell_type": "code",
      "metadata": {
        "colab": {
          "base_uri": "https://localhost:8080/"
        },
        "id": "59utPY2FbUyN",
        "outputId": "2c009186-9bb9-41fd-dd1a-df59e11b886d"
      },
      "source": [
        "val = model.evaluate(test_set)"
      ],
      "execution_count": 17,
      "outputs": [
        {
          "output_type": "stream",
          "name": "stdout",
          "text": [
            "4/4 [==============================] - 5s 892ms/step - loss: 0.0923 - accuracy: 0.9528\n"
          ]
        }
      ]
    },
    {
      "cell_type": "code",
      "metadata": {
        "colab": {
          "base_uri": "https://localhost:8080/"
        },
        "id": "POa7w0XzbZ68",
        "outputId": "1017ecd4-9b2a-4885-b229-29e021c421e0"
      },
      "source": [
        "print(\"test loss: \",val[0])\n",
        "print(\"test accuracy: \",val[1])"
      ],
      "execution_count": 18,
      "outputs": [
        {
          "output_type": "stream",
          "name": "stdout",
          "text": [
            "test loss:  0.09230054169893265\n",
            "test accuracy:  0.9528301954269409\n"
          ]
        }
      ]
    },
    {
      "cell_type": "markdown",
      "source": [
        "###Plotting Loss and Accuracy\n",
        "\n",
        "\n",
        "**Accuracy:**"
      ],
      "metadata": {
        "id": "SzwWqQ5HRtU7"
      }
    },
    {
      "cell_type": "code",
      "source": [
        "plt.plot(mf.history['accuracy'], label='train acc')\n",
        "plt.plot(mf.history['val_accuracy'], label='val acc')\n",
        "plt.legend()\n",
        "plt.show()\n",
        "plt.savefig('AccVal_acc')"
      ],
      "metadata": {
        "id": "psgeSWUVjHv_",
        "colab": {
          "base_uri": "https://localhost:8080/",
          "height": 282
        },
        "outputId": "d9289844-df31-408f-b31d-3ad33ee92d3f"
      },
      "execution_count": 20,
      "outputs": [
        {
          "output_type": "display_data",
          "data": {
            "text/plain": [
              "<Figure size 432x288 with 1 Axes>"
            ],
            "image/png": "[encoded data removed]"
          },
          "metadata": {
            "needs_background": "light"
          }
        },
        {
          "output_type": "display_data",
          "data": {
            "text/plain": [
              "<Figure size 432x288 with 0 Axes>"
            ]
          },
          "metadata": {}
        }
      ]
    },
    {
      "cell_type": "markdown",
      "source": [
        "**Loss:**"
      ],
      "metadata": {
        "id": "6Ifq7CYrR-PP"
      }
    },
    {
      "cell_type": "code",
      "source": [
        "plt.plot(mf.history['loss'], label='train loss')\n",
        "plt.plot(mf.history['val_loss'], label='val loss')\n",
        "plt.legend()\n",
        "plt.show()\n",
        "plt.savefig('LossVal_loss')"
      ],
      "metadata": {
        "id": "5N14BAJ9jH-y",
        "colab": {
          "base_uri": "https://localhost:8080/",
          "height": 286
        },
        "outputId": "a55fa71b-47ff-48bf-eca5-39fb421d07f9"
      },
      "execution_count": 21,
      "outputs": [
        {
          "output_type": "display_data",
          "data": {
            "text/plain": [
              "<Figure size 432x288 with 1 Axes>"
            ],
            "image/png": "[encoded data removed]"
          },
          "metadata": {
            "needs_background": "light"
          }
        },
        {
          "output_type": "display_data",
          "data": {
            "text/plain": [
              "<Figure size 432x288 with 0 Axes>"
            ]
          },
          "metadata": {}
        }
      ]
    }
  ]
}